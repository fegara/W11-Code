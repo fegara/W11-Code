{
 "cells": [
  {
   "cell_type": "markdown",
   "id": "92078311",
   "metadata": {},
   "source": [
    "#### MS5041 Optimasi Operasi\n",
    "- Week 11 Part 05 Live Demo\n",
    "- Example 01: Numerical Differentiation\n"
   ]
  },
  {
   "cell_type": "code",
   "execution_count": null,
   "id": "9fa6f124",
   "metadata": {},
   "outputs": [],
   "source": [
    "import numpy as np\n",
    "import matplotlib.pyplot as plt"
   ]
  },
  {
   "cell_type": "markdown",
   "id": "05579d1e",
   "metadata": {},
   "source": [
    "Derivative via Numerical Differentiation\n",
    "\n",
    "The function is formulated as,\n",
    "$$\n",
    "f(x) = 3x^2 + 2x + 1\n",
    "$$\n",
    "Based on the analytical approach $f'(x) = 6x + 2$, and at $x=2$, we get $f'(2)=14$"
   ]
  },
  {
   "cell_type": "code",
   "execution_count": null,
   "id": "7922b033",
   "metadata": {},
   "outputs": [],
   "source": [
    "def f(x):\n",
    "    return 3*x**2 + 2*x + 1"
   ]
  },
  {
   "cell_type": "code",
   "execution_count": null,
   "id": "ac9bfb2f",
   "metadata": {},
   "outputs": [],
   "source": [
    "y = f(3)\n",
    "print(y)"
   ]
  },
  {
   "cell_type": "code",
   "execution_count": 5,
   "id": "53140abb",
   "metadata": {},
   "outputs": [
    {
     "name": "stdout",
     "output_type": "stream",
     "text": [
      "Numerical derivative at x=2: 14.000000000002897\n",
      "Analytical derivative at x=2: 14\n"
     ]
    }
   ],
   "source": [
    "# Numerical derivative using central difference\n",
    "h = 1e-5\n",
    "x = 2\n",
    "num_derivative = (f(x + h) - f(x - h)) / (2 * h)\n",
    "print(f\"Numerical derivative at x={x}: {num_derivative}\")\n",
    "print(f'Analytical derivative at x={x}: {6*x + 2}')"
   ]
  },
  {
   "cell_type": "code",
   "execution_count": null,
   "id": "a2fb9c11",
   "metadata": {},
   "outputs": [],
   "source": []
  }
 ],
 "metadata": {
  "kernelspec": {
   "display_name": "js",
   "language": "python",
   "name": "python3"
  },
  "language_info": {
   "codemirror_mode": {
    "name": "ipython",
    "version": 3
   },
   "file_extension": ".py",
   "mimetype": "text/x-python",
   "name": "python",
   "nbconvert_exporter": "python",
   "pygments_lexer": "ipython3",
   "version": "3.10.13"
  }
 },
 "nbformat": 4,
 "nbformat_minor": 5
}
